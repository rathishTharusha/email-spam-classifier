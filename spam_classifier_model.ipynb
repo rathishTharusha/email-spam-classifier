{
 "cells": [
  {
   "cell_type": "code",
   "execution_count": 15,
   "id": "bb3bb732",
   "metadata": {},
   "outputs": [],
   "source": [
    "# spam_classifier.py\n",
    "import pandas as pd\n",
    "import numpy as np\n",
    "import nltk\n",
    "from nltk.corpus import stopwords\n",
    "from nltk.tokenize import word_tokenize\n",
    "from nltk.stem import WordNetLemmatizer\n",
    "import re\n",
    "from sklearn.model_selection import train_test_split, GridSearchCV\n",
    "from sklearn.feature_extraction.text import TfidfVectorizer\n",
    "from sklearn.svm import SVC\n",
    "from sklearn.metrics import accuracy_score, precision_score, recall_score, f1_score, confusion_matrix\n",
    "from sklearn.pipeline import Pipeline\n",
    "import matplotlib.pyplot as plt\n",
    "import seaborn as sns\n",
    "import joblib"
   ]
  },
  {
   "cell_type": "code",
   "execution_count": 16,
   "id": "d3618c7b",
   "metadata": {},
   "outputs": [
    {
     "name": "stdout",
     "output_type": "stream",
     "text": [
      "NumPy version: 1.23.5\n"
     ]
    }
   ],
   "source": [
    "# Check NumPy version\n",
    "print(f\"NumPy version: {np.__version__}\")\n",
    "if not np.__version__.startswith('1.23'):\n",
    "    print(\"Warning: NumPy version should be 1.23.5. Run: pip install numpy==1.23.5\")\n",
    "    exit(1)"
   ]
  },
  {
   "cell_type": "code",
   "execution_count": 17,
   "id": "45043b47",
   "metadata": {},
   "outputs": [
    {
     "data": {
      "text/plain": [
       "True"
      ]
     },
     "execution_count": 17,
     "metadata": {},
     "output_type": "execute_result"
    }
   ],
   "source": [
    "# Download NLTK data\n",
    "nltk.download('punkt', quiet=True)\n",
    "nltk.download('punkt_tab', quiet=True)\n",
    "nltk.download('stopwords', quiet=True)\n",
    "nltk.download('wordnet', quiet=True)"
   ]
  },
  {
   "cell_type": "code",
   "execution_count": 18,
   "id": "a919d50b",
   "metadata": {},
   "outputs": [],
   "source": [
    "# Load dataset\n",
    "try:\n",
    "    data = pd.read_csv('emails.csv')\n",
    "except FileNotFoundError:\n",
    "    print(\"Error: 'emails.csv' not found.\")\n",
    "    exit(1)"
   ]
  },
  {
   "cell_type": "code",
   "execution_count": 19,
   "id": "366ad5c0",
   "metadata": {},
   "outputs": [
    {
     "name": "stdout",
     "output_type": "stream",
     "text": [
      "Column Headers: ['text', 'spam']\n",
      "Data Types:\n",
      " text    object\n",
      "spam     int64\n",
      "dtype: object\n",
      "Null Values:\n",
      " text    0\n",
      "spam    0\n",
      "dtype: int64\n",
      "\n",
      "Label Distribution:\n",
      "spam\n",
      "0    4360\n",
      "1    1368\n",
      "Name: count, dtype: int64\n"
     ]
    }
   ],
   "source": [
    "# Explore dataset\n",
    "print(\"Column Headers:\", data.columns.tolist())\n",
    "print(\"Data Types:\\n\", data.dtypes)\n",
    "print(\"Null Values:\\n\", data.isnull().sum())\n",
    "print(\"\\nLabel Distribution:\")\n",
    "print(data['spam'].value_counts())"
   ]
  },
  {
   "cell_type": "code",
   "execution_count": 20,
   "id": "a000d1c5",
   "metadata": {},
   "outputs": [],
   "source": [
    "# Preprocessing\n",
    "def preprocess_text(text):\n",
    "    text = text.lower()\n",
    "    text = re.sub(r'[^a-zA-Z\\s]', '', text)\n",
    "    tokens = word_tokenize(text)\n",
    "    stop_words = set(stopwords.words('english'))\n",
    "    tokens = [word for word in tokens if word not in stop_words]\n",
    "    lemmatizer = WordNetLemmatizer()\n",
    "    tokens = [lemmatizer.lemmatize(word) for word in tokens]\n",
    "    return ' '.join(tokens)\n",
    "\n",
    "data['processed_text'] = data['text'].apply(preprocess_text)"
   ]
  },
  {
   "cell_type": "code",
   "execution_count": 21,
   "id": "fab6b3a8",
   "metadata": {},
   "outputs": [
    {
     "name": "stdout",
     "output_type": "stream",
     "text": [
      "\n",
      "Training set size: 4582\n",
      "Test set size: 1146\n",
      "Training Label Distribution:\n",
      "spam\n",
      "0    3504\n",
      "1    1078\n",
      "Name: count, dtype: int64\n"
     ]
    }
   ],
   "source": [
    "# Split dataset (80/20)\n",
    "X = data['processed_text']\n",
    "y = data['spam']\n",
    "X_train, X_test, y_train, y_test = train_test_split(X, y, test_size=0.2, random_state=42)\n",
    "\n",
    "print(f\"\\nTraining set size: {X_train.shape[0]}\")\n",
    "print(f\"Test set size: {X_test.shape[0]}\")\n",
    "print(\"Training Label Distribution:\")\n",
    "print(pd.Series(y_train).value_counts())"
   ]
  },
  {
   "cell_type": "code",
   "execution_count": 22,
   "id": "9144323f",
   "metadata": {},
   "outputs": [],
   "source": [
    "# Pipeline\n",
    "pipeline = Pipeline([\n",
    "    ('tfidf', TfidfVectorizer()),\n",
    "    ('svm', SVC(random_state=42))\n",
    "])"
   ]
  },
  {
   "cell_type": "code",
   "execution_count": 23,
   "id": "614cea9d",
   "metadata": {},
   "outputs": [
    {
     "name": "stdout",
     "output_type": "stream",
     "text": [
      "Fitting 5 folds for each of 144 candidates, totalling 720 fits\n"
     ]
    }
   ],
   "source": [
    "# GridSearchCV with class_weight options\n",
    "param_grid = {\n",
    "    'tfidf__max_features': [3000, 5000],\n",
    "    'tfidf__ngram_range': [(1,1), (1,2)],\n",
    "    'svm__C': [0.1, 1, 10],\n",
    "    'svm__kernel': ['linear', 'rbf'],\n",
    "    'svm__gamma': ['scale', 'auto'],\n",
    "    'svm__class_weight': ['balanced', {0: 1, 1: 2}, {0: 1, 1: 3}]\n",
    "}\n",
    "try:\n",
    "    grid_search = GridSearchCV(pipeline, param_grid, cv=5, scoring='accuracy', n_jobs=-1, verbose=2)\n",
    "    grid_search.fit(X_train, y_train)\n",
    "except Exception as e:\n",
    "    print(f\"Error during GridSearchCV: {e}\")\n",
    "    exit(1)"
   ]
  },
  {
   "cell_type": "code",
   "execution_count": 24,
   "id": "11bf00d1",
   "metadata": {},
   "outputs": [
    {
     "name": "stdout",
     "output_type": "stream",
     "text": [
      "\n",
      "Best Params: {'svm__C': 1, 'svm__class_weight': {0: 1, 1: 2}, 'svm__gamma': 'scale', 'svm__kernel': 'linear', 'tfidf__max_features': 5000, 'tfidf__ngram_range': (1, 2)}\n",
      "Top 5 Hyperparameter Combos:\n",
      "                                                 params  mean_test_score  \\\n",
      "107  {'svm__C': 10, 'svm__class_weight': 'balanced'...         0.991926   \n",
      "123  {'svm__C': 10, 'svm__class_weight': {0: 1, 1: ...         0.991926   \n",
      "139  {'svm__C': 10, 'svm__class_weight': {0: 1, 1: ...         0.991926   \n",
      "99   {'svm__C': 10, 'svm__class_weight': 'balanced'...         0.991926   \n",
      "75   {'svm__C': 1, 'svm__class_weight': {0: 1, 1: 2...         0.991926   \n",
      "\n",
      "     std_test_score  \n",
      "107        0.002807  \n",
      "123        0.002807  \n",
      "139        0.002807  \n",
      "99         0.002807  \n",
      "75         0.002807  \n"
     ]
    }
   ],
   "source": [
    "# Print results\n",
    "print(\"\\nBest Params:\", grid_search.best_params_)\n",
    "cv_results = pd.DataFrame(grid_search.cv_results_)\n",
    "top_5 = cv_results[['params', 'mean_test_score', 'std_test_score']].sort_values(by='mean_test_score', ascending=False).head()\n",
    "print(\"Top 5 Hyperparameter Combos:\\n\", top_5)\n",
    "\n",
    "best_model = grid_search.best_estimator_"
   ]
  },
  {
   "cell_type": "code",
   "execution_count": 25,
   "id": "0b007eb9",
   "metadata": {},
   "outputs": [
    {
     "name": "stdout",
     "output_type": "stream",
     "text": [
      "\n",
      "Test Metrics:\n",
      "Accuracy: 0.9930\n",
      "Precision: 0.9930\n",
      "Recall: 0.9793\n",
      "F1-Score: 0.9861\n"
     ]
    }
   ],
   "source": [
    "# Evaluate\n",
    "y_test_pred = best_model.predict(X_test)\n",
    "test_accuracy = accuracy_score(y_test, y_test_pred)\n",
    "test_precision = precision_score(y_test, y_test_pred)\n",
    "test_recall = recall_score(y_test, y_test_pred)\n",
    "test_f1 = f1_score(y_test, y_test_pred)\n",
    "\n",
    "print(\"\\nTest Metrics:\")\n",
    "print(f\"Accuracy: {test_accuracy:.4f}\")\n",
    "print(f\"Precision: {test_precision:.4f}\")\n",
    "print(f\"Recall: {test_recall:.4f}\")\n",
    "print(f\"F1-Score: {test_f1:.4f}\")"
   ]
  },
  {
   "cell_type": "code",
   "execution_count": 26,
   "id": "4be2773c",
   "metadata": {},
   "outputs": [
    {
     "data": {
      "image/png": "[encoded data removed]",
      "text/plain": [
       "<Figure size 800x600 with 2 Axes>"
      ]
     },
     "metadata": {},
     "output_type": "display_data"
    }
   ],
   "source": [
    "# Confusion matrix\n",
    "cm = confusion_matrix(y_test, y_test_pred)\n",
    "plt.figure(figsize=(8, 6))\n",
    "sns.heatmap(cm, annot=True, fmt='d', cmap='Blues', xticklabels=['Ham', 'Spam'], yticklabels=['Ham', 'Spam'])\n",
    "plt.title('Confusion Matrix (Test Set)')\n",
    "plt.xlabel('Predicted')\n",
    "plt.ylabel('Actual')\n",
    "plt.show()"
   ]
  },
  {
   "cell_type": "code",
   "execution_count": 27,
   "id": "9db9052e",
   "metadata": {},
   "outputs": [
    {
     "data": {
      "text/plain": [
       "['tfidf_vectorizer.joblib']"
      ]
     },
     "execution_count": 27,
     "metadata": {},
     "output_type": "execute_result"
    }
   ],
   "source": [
    "# Save model\n",
    "joblib.dump(best_model, 'spam_classifier_model.joblib')\n",
    "joblib.dump(best_model.named_steps['tfidf'], 'tfidf_vectorizer.joblib')"
   ]
  },
  {
   "cell_type": "code",
   "execution_count": 28,
   "id": "f243db11",
   "metadata": {},
   "outputs": [
    {
     "name": "stdout",
     "output_type": "stream",
     "text": [
      "\n",
      "Sample Email Prediction:\n",
      "Spam\n"
     ]
    }
   ],
   "source": [
    "# Sample prediction\n",
    "sample_email = \"Win a free iPhone now! Click here to claim your prize!\"\n",
    "processed_email = preprocess_text(sample_email)\n",
    "prediction = best_model.predict([processed_email])\n",
    "print(\"\\nSample Email Prediction:\")\n",
    "print(\"Spam\" if prediction[0] == 1 else \"Ham\")"
   ]
  }
 ],
 "metadata": {
  "kernelspec": {
   "display_name": "spam_detector",
   "language": "python",
   "name": "python3"
  },
  "language_info": {
   "codemirror_mode": {
    "name": "ipython",
    "version": 3
   },
   "file_extension": ".py",
   "mimetype": "text/x-python",
   "name": "python",
   "nbconvert_exporter": "python",
   "pygments_lexer": "ipython3",
   "version": "3.9.19"
  }
 },
 "nbformat": 4,
 "nbformat_minor": 5
}
